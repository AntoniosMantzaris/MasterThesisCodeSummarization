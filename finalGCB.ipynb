{
 "cells": [
  {
   "cell_type": "code",
   "execution_count": null,
   "metadata": {
    "colab": {
     "base_uri": "https://localhost:8080/"
    },
    "id": "tCCsH0fPB6bm",
    "outputId": "60e412d6-a537-448c-af89-b48c4e2d4b15"
   },
   "outputs": [],
   "source": [
    "from google.colab import drive\n",
    "drive.mount('/content/drive')"
   ]
  },
  {
   "cell_type": "markdown",
   "metadata": {
    "id": "Ne6UapbtCKt0"
   },
   "source": [
    "## Dataset"
   ]
  },
  {
   "cell_type": "code",
   "execution_count": null,
   "metadata": {
    "colab": {
     "base_uri": "https://localhost:8080/"
    },
    "id": "ttkUI9ChCITc",
    "outputId": "2dfd99ad-a6c7-49a4-9452-bb65f41faf6f"
   },
   "outputs": [],
   "source": [
    "! mkdir dataset\n",
    "! ls"
   ]
  },
  {
   "cell_type": "code",
   "execution_count": null,
   "metadata": {
    "colab": {
     "base_uri": "https://localhost:8080/"
    },
    "id": "4ajfaEu1COel",
    "outputId": "322d4b51-8c7f-4c37-c0d2-34a4594bc658"
   },
   "outputs": [],
   "source": [
    "! cp -av /content/drive/MyDrive/ThesisDataset/CodeSearchNet/python ./dataset/"
   ]
  },
  {
   "cell_type": "code",
   "execution_count": null,
   "metadata": {
    "colab": {
     "base_uri": "https://localhost:8080/"
    },
    "id": "j5oFWVfNKatu",
    "outputId": "d19f7663-1ad8-48e3-b449-0eab05a8b5d6"
   },
   "outputs": [],
   "source": [
    "! cp -av /content/drive/MyDrive/ThesisDataset/SmallDataset ./small_dataset/"
   ]
  },
  {
   "cell_type": "code",
   "execution_count": null,
   "metadata": {
    "colab": {
     "base_uri": "https://localhost:8080/"
    },
    "id": "Cn_W-910v60d",
    "outputId": "1b3390b0-554c-4b0e-8c77-02f2b00aaea4"
   },
   "outputs": [],
   "source": [
    "! cp -av /content/drive/MyDrive/ThesisDataset/MedSet2/java ./dataset5000/"
   ]
  },
  {
   "cell_type": "code",
   "execution_count": null,
   "metadata": {
    "colab": {
     "base_uri": "https://localhost:8080/"
    },
    "id": "ZstHOSYsjY2F",
    "outputId": "bce44953-0201-40e9-b3ce-23aff54379a2"
   },
   "outputs": [],
   "source": [
    "! cp -av /content/drive/MyDrive/ThesisDataset/MedSet/java ./dataset2/"
   ]
  },
  {
   "cell_type": "code",
   "execution_count": null,
   "metadata": {
    "id": "eorb2z6ACPG6"
   },
   "outputs": [],
   "source": [
    "import pandas as pd\n",
    "import json\n",
    "from markdown import markdown\n",
    "from pathlib import Path\n",
    "pd.set_option('max_colwidth',300)\n",
    "from pprint import pprint"
   ]
  },
  {
   "cell_type": "markdown",
   "metadata": {
    "id": "nGkNPZbqYbHH"
   },
   "source": [
    "## GraphCodeBERT (translation)"
   ]
  },
  {
   "cell_type": "code",
   "execution_count": null,
   "metadata": {
    "colab": {
     "base_uri": "https://localhost:8080/"
    },
    "id": "TS3wmTV2cKpu",
    "outputId": "099b98fd-4c97-4791-a49f-f411ac759f11"
   },
   "outputs": [],
   "source": [
    "! git clone https://github.com/AntoniosMantzaris/CodeBERT.git"
   ]
  },
  {
   "cell_type": "code",
   "execution_count": null,
   "metadata": {
    "colab": {
     "base_uri": "https://localhost:8080/"
    },
    "id": "ag0Hc8NZJCEA",
    "outputId": "78124910-79b5-4b10-ccdf-af8562333b8b"
   },
   "outputs": [],
   "source": [
    "! pip install transformers "
   ]
  },
  {
   "cell_type": "code",
   "execution_count": null,
   "metadata": {
    "colab": {
     "base_uri": "https://localhost:8080/"
    },
    "id": "zOU6CZ12Yk5b",
    "outputId": "24f72bca-8171-4856-8025-cccabdbaac8a"
   },
   "outputs": [],
   "source": [
    "! pip install tree_sitter"
   ]
  },
  {
   "cell_type": "code",
   "execution_count": null,
   "metadata": {
    "id": "udqWk9ilI8It"
   },
   "outputs": [],
   "source": [
    "! pip install sentencepiece"
   ]
  },
  {
   "cell_type": "markdown",
   "metadata": {
    "id": "XVzZK668p-7a"
   },
   "source": [
    "### Train"
   ]
  },
  {
   "cell_type": "markdown",
   "metadata": {
    "id": "NhuhIIsnJPDH"
   },
   "source": [
    "#### From pre-trained (no chechpoint)"
   ]
  },
  {
   "cell_type": "code",
   "execution_count": null,
   "metadata": {
    "id": "N6Ci1euVqAu3"
   },
   "outputs": [],
   "source": [
    "import torch\n",
    "torch.cuda.empty_cache()\n",
    "! python CodeBERT/GraphCodeBERT/translation/run.py\\\n",
    "                      --do_train\\\n",
    "                      --do_eval\\\n",
    "                      --model_type auto\\\n",
    "                      --source_lang java\\\n",
    "                      --model_name_or_path=microsoft/graphcodebert-base\\\n",
    "                      --tokenizer_name uclanlp/plbart-base \\\n",
    "                      --config_name microsoft/graphcodebert-base \\\n",
    "                      --train_filename=dataset/training.jsonl\\\n",
    "                      --dev_filename=dataset/validation.jsonl\\\n",
    "                      --output_dir=model/java\\\n",
    "                      --max_source_length=320\\\n",
    "                      --max_target_length=128\\\n",
    "                      --beam_size=4\\\n",
    "                      --train_batch_size=16\\\n",
    "                      --eval_batch_size=16\\\n",
    "                      --learning_rate=5e-5\\\n",
    "                      --num_train_epochs=100                  "
   ]
  },
  {
   "cell_type": "code",
   "execution_count": null,
   "metadata": {
    "colab": {
     "base_uri": "https://localhost:8080/"
    },
    "id": "BxpCZSmBE2s2",
    "outputId": "e54e57af-fc48-49d9-d459-d12a3e237050"
   },
   "outputs": [],
   "source": [
    "import torch\n",
    "model = torch.load(\"model/java/checkpoint-last/pytorch_model.bin\")\n",
    "torch.save(model, './drive/MyDrive/ThesisDataset/Models/GCB100lessDEC_java')\n",
    "print(\"saved\")"
   ]
  },
  {
   "cell_type": "code",
   "execution_count": null,
   "metadata": {
    "colab": {
     "base_uri": "https://localhost:8080/"
    },
    "id": "H3yaoTXtRa0p",
    "outputId": "617cf275-0383-4b53-f42d-8a716bfabfa9"
   },
   "outputs": [],
   "source": [
    "import torch\n",
    "model = torch.load(\"model/java/checkpoint-best-bleu/pytorch_model.bin\")\n",
    "torch.save(model, './drive/MyDrive/ThesisDataset/Models/GCB100medBLEU_java')\n",
    "print(\"saved\")"
   ]
  },
  {
   "cell_type": "markdown",
   "metadata": {
    "id": "uV6mhZWFJYc2"
   },
   "source": [
    "#### From checkpoint"
   ]
  },
  {
   "cell_type": "code",
   "execution_count": null,
   "metadata": {
    "id": "1E-cfYavZXll"
   },
   "outputs": [],
   "source": [
    "import torch\n",
    "torch.cuda.empty_cache()\n",
    "! python CodeBERT/GraphCodeBERT/translation/run.py\\\n",
    "                      --do_train\\\n",
    "                      --do_eval\\\n",
    "                      --model_type auto\\\n",
    "                      --source_lang java\\\n",
    "                      --model_name_or_path=microsoft/graphcodebert-base\\\n",
    "                      --tokenizer_name uclanlp/plbart-base \\\n",
    "                      --config_name microsoft/graphcodebert-base \\\n",
    "                      --train_filename=dataset2/training.jsonl\\\n",
    "                      --dev_filename=dataset2/validation.jsonl\\\n",
    "                      --output_dir=model/java\\\n",
    "                      --max_source_length=320\\\n",
    "                      --max_target_length=128\\\n",
    "                      --beam_size=4\\\n",
    "                      --train_batch_size=16\\\n",
    "                      --eval_batch_size=16\\\n",
    "                      --learning_rate=5e-6\\\n",
    "                      --num_train_epochs=50\\\n",
    "                      --load_model_path=drive/MyDrive/ThesisDataset/Models/GCBtemp_java"
   ]
  },
  {
   "cell_type": "code",
   "execution_count": null,
   "metadata": {
    "id": "lIsFKxTWqydB"
   },
   "outputs": [],
   "source": [
    "import torch\n",
    "model = torch.load(\"model/java/checkpoint-best-bleu/pytorch_model.bin\")\n",
    "torch.save(model, './drive/MyDrive/ThesisDataset/Models/GCB96_0305001_bleu_java')"
   ]
  },
  {
   "cell_type": "code",
   "execution_count": null,
   "metadata": {
    "colab": {
     "base_uri": "https://localhost:8080/"
    },
    "id": "D6mQoGlkqc4X",
    "outputId": "47d24994-5dec-4180-efa4-0e5e912439ce"
   },
   "outputs": [],
   "source": [
    "import torch\n",
    "model = torch.load(\"model/java/checkpoint-last/pytorch_model.bin\")\n",
    "torch.save(model, './drive/MyDrive/ThesisDataset/Models/GCB96_0305001_last_java')\n",
    "print(\"saved\")"
   ]
  },
  {
   "cell_type": "code",
   "execution_count": null,
   "metadata": {
    "id": "smG9nNo-uJoH"
   },
   "outputs": [],
   "source": [
    "import torch\n",
    "model = torch.load(\"model/java/checkpoint-best-ppl/pytorch_model.bin\")\n",
    "torch.save(model, './drive/MyDrive/ThesisDataset/Models/GCB69_0305001_ppl_java')"
   ]
  }
 ],
 "metadata": {
  "accelerator": "GPU",
  "colab": {
   "collapsed_sections": [
    "q0rcw1Y5CW-j",
    "inzt7BYwCiFz",
    "GxLs_ZFhbWWC",
    "kaRazrsgD3U1",
    "GausYMzWauD9",
    "pY2UBC5w0JEF"
   ],
   "machine_shape": "hm",
   "name": "finalGCB.ipynb",
   "provenance": []
  },
  "kernelspec": {
   "display_name": "Python 3 (ipykernel)",
   "language": "python",
   "name": "python3"
  },
  "language_info": {
   "codemirror_mode": {
    "name": "ipython",
    "version": 3
   },
   "file_extension": ".py",
   "mimetype": "text/x-python",
   "name": "python",
   "nbconvert_exporter": "python",
   "pygments_lexer": "ipython3",
   "version": "3.8.12"
  }
 },
 "nbformat": 4,
 "nbformat_minor": 1
}
