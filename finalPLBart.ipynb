{
 "cells": [
  {
   "cell_type": "code",
   "execution_count": null,
   "metadata": {
    "colab": {
     "base_uri": "https://localhost:8080/"
    },
    "id": "4n60GdhieVoA",
    "outputId": "88305338-1720-444f-ba3a-c8134011697b"
   },
   "outputs": [],
   "source": [
    "from google.colab import drive\n",
    "drive.mount('/content/drive')"
   ]
  },
  {
   "cell_type": "markdown",
   "metadata": {
    "id": "diHSqN8EGi5y"
   },
   "source": [
    "## Dataset selection and pre-processing"
   ]
  },
  {
   "cell_type": "code",
   "execution_count": null,
   "metadata": {
    "colab": {
     "base_uri": "https://localhost:8080/"
    },
    "id": "SyLcKKvGejyi",
    "outputId": "ff3c7647-58a1-44f9-dac5-660b32a8933c"
   },
   "outputs": [],
   "source": [
    "! mkdir dataset\n",
    "! ls"
   ]
  },
  {
   "cell_type": "code",
   "execution_count": null,
   "metadata": {
    "colab": {
     "base_uri": "https://localhost:8080/"
    },
    "id": "Bex7gIosqVLd",
    "outputId": "765abd15-f826-4a65-970c-d33c0d64ec84"
   },
   "outputs": [],
   "source": [
    "! cp -av /content/drive/MyDrive/ThesisDataset/MedSet2/java ./dataset/"
   ]
  },
  {
   "cell_type": "code",
   "execution_count": null,
   "metadata": {
    "colab": {
     "base_uri": "https://localhost:8080/"
    },
    "id": "PnnvfgKVb9lD",
    "outputId": "2ae986af-9c8c-444a-f695-ccab6867ee67"
   },
   "outputs": [],
   "source": [
    "! cp -av /content/drive/MyDrive/ThesisDataset/MedSet/java ./dataset/"
   ]
  },
  {
   "cell_type": "code",
   "execution_count": null,
   "metadata": {
    "colab": {
     "base_uri": "https://localhost:8080/"
    },
    "id": "wiC6fuQrenix",
    "outputId": "150f3215-c2dc-41ea-8fb9-db9b88dd83e8"
   },
   "outputs": [],
   "source": [
    "! cp -av /content/drive/MyDrive/ThesisDataset/SmallDataset/ ./dataset/"
   ]
  },
  {
   "cell_type": "code",
   "execution_count": null,
   "metadata": {
    "colab": {
     "base_uri": "https://localhost:8080/"
    },
    "id": "hbGN97W7P_UY",
    "outputId": "6b973d21-eeea-4679-8ef8-02e9bd8e1233"
   },
   "outputs": [],
   "source": [
    "! cp -av /content/drive/MyDrive/ThesisDataset/CodeSearchNet/python ./datasetL/"
   ]
  },
  {
   "cell_type": "code",
   "execution_count": null,
   "metadata": {
    "id": "RjmCldzRe4TT"
   },
   "outputs": [],
   "source": [
    "import pandas as pd\n",
    "import json\n",
    "from markdown import markdown\n",
    "from pathlib import Path\n",
    "pd.set_option('max_colwidth',300)\n",
    "from pprint import pprint"
   ]
  },
  {
   "cell_type": "code",
   "execution_count": null,
   "metadata": {
    "colab": {
     "base_uri": "https://localhost:8080/"
    },
    "id": "hoaE6XfZerDp",
    "outputId": "9a9302c5-3f3b-4f98-b7df-e7da17f8888c"
   },
   "outputs": [],
   "source": [
    "#train_py = pd.read_json('./dataset/SmallDataset/python/training.jsonl',lines=True)\n",
    "#val_py = pd.read_json('./dataset/SmallDataset/python/validation.jsonl',lines=True)\n",
    "#test_py = pd.read_json('./dataset/SmallDataset/python/testing.jsonl',lines=True)\n",
    "\n",
    "train_java = pd.read_json('./dataset/training.jsonl',lines=True)\n",
    "val_java = pd.read_json('./dataset/validation.jsonl',lines=True)\n",
    "test_java = pd.read_json('./dataset/testing.jsonl',lines=True)\n",
    "\"\"\"\n",
    "train_jscript = pd.read_json('./dataset/SmallDataset/javascript/training.jsonl',lines=True)\n",
    "val_jscript = pd.read_json('./dataset/SmallDataset/javascript/validation.jsonl',lines=True)\n",
    "test_jscript = pd.read_json('./dataset/SmallDataset/javascript/testing.jsonl',lines=True)\n",
    "\n",
    "train_php = pd.read_json('./dataset/SmallDataset/php/training.jsonl',lines=True)\n",
    "val_php = pd.read_json('./dataset/SmallDataset/php/validation.jsonl',lines=True)\n",
    "test_php = pd.read_json('./dataset/SmallDataset/php/testing.jsonl',lines=True)\n",
    "\n",
    "train_go = pd.read_json('./dataset/SmallDataset/go/training.jsonl',lines=True)\n",
    "val_go = pd.read_json('./dataset/SmallDataset/go/validation.jsonl',lines=True)\n",
    "test_go = pd.read_json('./dataset/SmallDataset/go/testing.jsonl',lines=True)\n",
    "\n",
    "train_ruby = pd.read_json('./dataset/SmallDataset/ruby/training.jsonl',lines=True)\n",
    "val_ruby = pd.read_json('./dataset/SmallDataset/ruby/validation.jsonl',lines=True)\n",
    "test_ruby = pd.read_json('./dataset/SmallDataset/ruby/testing.jsonl',lines=True)\n",
    "\"\"\"\n",
    "len(train_java.index)"
   ]
  },
  {
   "cell_type": "markdown",
   "metadata": {
    "id": "hQzSWTlfSbFy"
   },
   "source": [
    "#### Python"
   ]
  },
  {
   "cell_type": "code",
   "execution_count": null,
   "metadata": {
    "id": "xOywmDJ-QQzx"
   },
   "outputs": [],
   "source": [
    "train_py = pd.read_json('./datasetL/training.jsonl',lines=True)\n",
    "val_py = pd.read_json('./datasetL/validation.jsonl',lines=True)\n",
    "test_py = pd.read_json('./datasetL/testing.jsonl',lines=True)\n",
    "\"\"\"\n",
    "train_java = pd.read_json('./dataset/SmallDataset/java/training.jsonl',lines=True)\n",
    "val_java = pd.read_json('./dataset/SmallDataset/java/validation.jsonl',lines=True)\n",
    "test_java = pd.read_json('./dataset/SmallDataset/java/testing.jsonl',lines=True)\n",
    "\n",
    "train_jscript = pd.read_json('./dataset/SmallDataset/javascript/training.jsonl',lines=True)\n",
    "val_jscript = pd.read_json('./dataset/SmallDataset/javascript/validation.jsonl',lines=True)\n",
    "test_jscript = pd.read_json('./dataset/SmallDataset/javascript/testing.jsonl',lines=True)\n",
    "\n",
    "train_php = pd.read_json('./dataset/SmallDataset/php/training.jsonl',lines=True)\n",
    "val_php = pd.read_json('./dataset/SmallDataset/php/validation.jsonl',lines=True)\n",
    "test_php = pd.read_json('./dataset/SmallDataset/php/testing.jsonl',lines=True)\n",
    "\n",
    "train_go = pd.read_json('./dataset/SmallDataset/go/training.jsonl',lines=True)\n",
    "val_go = pd.read_json('./dataset/SmallDataset/go/validation.jsonl',lines=True)\n",
    "test_go = pd.read_json('./dataset/SmallDataset/go/testing.jsonl',lines=True)\n",
    "\n",
    "train_ruby = pd.read_json('./dataset/SmallDataset/ruby/training.jsonl',lines=True)\n",
    "val_ruby = pd.read_json('./dataset/SmallDataset/ruby/validation.jsonl',lines=True)\n",
    "test_ruby = pd.read_json('./dataset/SmallDataset/ruby/testing.jsonl',lines=True)\n",
    "\"\"\"\n",
    "len(train_py.index)"
   ]
  },
  {
   "cell_type": "code",
   "execution_count": null,
   "metadata": {
    "colab": {
     "base_uri": "https://localhost:8080/",
     "height": 610
    },
    "id": "tMPVZxjWfnA1",
    "outputId": "61c0db36-73f6-402c-babe-caf3493e1938"
   },
   "outputs": [],
   "source": [
    "train_py['docstring'] = ('<s>' + train_py['docstring'] + '</s>').astype(str)\n",
    "val_py['docstring'] = ('<s>' + val_py['docstring'] + '</s>').astype(str)\n",
    "train_py.head(2)"
   ]
  },
  {
   "cell_type": "code",
   "execution_count": null,
   "metadata": {
    "colab": {
     "base_uri": "https://localhost:8080/",
     "height": 575
    },
    "id": "64fykYYL6XWa",
    "outputId": "7cec3705-bcad-429f-8f76-919e4943f6d1"
   },
   "outputs": [],
   "source": [
    "train_py['code2'] = train_py.apply(lambda row: (''.join(row['code_tokens'][1:-2]).replace('\\n',' ').replace(\"'\",'')),axis=1)\n",
    "train_py['code2'] = train_py.apply(lambda row: (''.join(row[\"code2\"].strip().split()).replace(',',' ')),axis=1)\n",
    "train_py['docstring2'] = train_py.apply(lambda row: (''.join(row['docstring_tokens'][1:-2]).replace('\\n',' ').replace(\"'\",'')),axis=1)\n",
    "train_py['docstring2'] = train_py.apply(lambda row: (''.join(row[\"docstring2\"].strip().split()).replace(',',' ')),axis=1)\n",
    "train_py['docstring2'] = ('<s>' + train_py['docstring2'] + '</s>').astype(str)\n",
    "\n",
    "\n",
    "val_py['code2'] = val_py.apply(lambda row: (''.join(row['code_tokens'][1:-2]).replace('\\n',' ').replace(\"'\",'')),axis=1)\n",
    "val_py['code2'] = val_py.apply(lambda row: (''.join(row[\"code2\"].strip().split()).replace(',',' ')),axis=1)\n",
    "val_py['docstring2'] = val_py.apply(lambda row: (''.join(row['docstring_tokens'][1:-2]).replace('\\n',' ').replace(\"'\",'')),axis=1)\n",
    "val_py['docstring2'] = val_py.apply(lambda row: (''.join(row[\"docstring2\"].strip().split()).replace(',',' ')),axis=1)\n",
    "val_py['docstring2'] = ('<s>' + val_py['docstring2'] + '</s>').astype(str)\n",
    "\n",
    "\n",
    "test_py['code2'] = test_py.apply(lambda row: (''.join(row['code_tokens'][1:-2]).replace('\\n',' ').replace(\"'\",'')),axis=1)\n",
    "test_py['code2'] = test_py.apply(lambda row: (''.join(row[\"code2\"].strip().split()).replace(',',' ')),axis=1)\n",
    "test_py['docstring2'] = test_py.apply(lambda row: (''.join(row['docstring_tokens'][1:-2]).replace('\\n',' ').replace(\"'\",'')),axis=1)\n",
    "test_py['docstring2'] = test_py.apply(lambda row: (''.join(row[\"docstring2\"].strip().split()).replace(',',' ')),axis=1)\n",
    "test_py['docstring2'] = ('<s>' + test_py['docstring2'] + '</s>').astype(str)\n",
    "\n",
    "test_py.head(2)"
   ]
  },
  {
   "cell_type": "markdown",
   "metadata": {
    "id": "09O1PUKQSWZs"
   },
   "source": [
    "#### Java"
   ]
  },
  {
   "cell_type": "code",
   "execution_count": null,
   "metadata": {
    "id": "J8bmQZP3t_p7"
   },
   "outputs": [],
   "source": [
    "train_java['code2'] = train_java.apply(lambda row: (''.join(row['code_tokens'][1:-1]).replace('\\n',' ').replace(\"'\",'')),axis=1) #code2 because of \\n etc that are not deleted by a parser\n",
    "train_java['code2'] = train_java.apply(lambda row: (''.join(row[\"code2\"].strip().split()).replace(',',' ')),axis=1)\n",
    "\n",
    "val_java['code2'] = val_java.apply(lambda row: (''.join(row['code_tokens'][1:-1]).replace('\\n',' ').replace(\"'\",'')),axis=1)\n",
    "val_java['code2'] = val_java.apply(lambda row: (''.join(row[\"code2\"].strip().split()).replace(',',' ')),axis=1)"
   ]
  },
  {
   "cell_type": "code",
   "execution_count": null,
   "metadata": {
    "id": "Q0QgZ2IxzQf5"
   },
   "outputs": [],
   "source": [
    "test_java['code2'] = test_java.apply(lambda row: (''.join(row['code_tokens'][1:-1]).replace('\\n',' ').replace(\"'\",'')),axis=1)\n",
    "test_java['code2'] = test_java.apply(lambda row: (''.join(row[\"code2\"].strip().split()).replace(',',' ')),axis=1)"
   ]
  },
  {
   "cell_type": "code",
   "execution_count": null,
   "metadata": {
    "id": "MQirIm2srB71"
   },
   "outputs": [],
   "source": [
    "train_java['docstring2'] = train_java.apply(lambda row: (''.join(row['docstring_tokens'][1:-1]).replace('\\n',' ').replace(\"'\",'')),axis=1)\n",
    "train_java['docstring2'] = train_java.apply(lambda row: (''.join(row[\"docstring2\"].strip().split()).replace(',',' ')),axis=1)\n",
    "\n",
    "val_java['docstring2'] = val_java.apply(lambda row: (''.join(row['docstring_tokens'][1:-1]).replace('\\n',' ').replace(\"'\",'')),axis=1)\n",
    "val_java['docstring2'] = val_java.apply(lambda row: (''.join(row[\"docstring2\"].strip().split()).replace(',',' ')),axis=1)"
   ]
  },
  {
   "cell_type": "code",
   "execution_count": null,
   "metadata": {
    "id": "ROSyCYwazrdq"
   },
   "outputs": [],
   "source": [
    "test_java['docstring2'] = test_java.apply(lambda row: (''.join(row['docstring_tokens'][1:-1]).replace('\\n',' ').replace(\"'\",'')),axis=1)\n",
    "test_java['docstring2'] = test_java.apply(lambda row: (''.join(row[\"docstring2\"].strip().split()).replace(',',' ')),axis=1)"
   ]
  },
  {
   "cell_type": "code",
   "execution_count": null,
   "metadata": {
    "id": "PvWx6MFKr-lt"
   },
   "outputs": [],
   "source": [
    "train_java['docstring2'] = ('<s>' + train_java['docstring2'] + '</s>').astype(str)"
   ]
  },
  {
   "cell_type": "code",
   "execution_count": null,
   "metadata": {
    "id": "H-N8Zl7vsNf7"
   },
   "outputs": [],
   "source": [
    "val_java['docstring2'] = ('<s>' + val_java['docstring2'] + '</s>').astype(str)"
   ]
  },
  {
   "cell_type": "code",
   "execution_count": null,
   "metadata": {
    "colab": {
     "base_uri": "https://localhost:8080/",
     "height": 680
    },
    "id": "4cqO2FXwrrxH",
    "outputId": "63d4a1e0-5554-4359-bb08-6fedac3a5a7f"
   },
   "outputs": [],
   "source": [
    "val_java.head(2)"
   ]
  },
  {
   "cell_type": "markdown",
   "metadata": {
    "id": "gAZE7jBve_t_"
   },
   "source": [
    "## PLBart for generation"
   ]
  },
  {
   "cell_type": "code",
   "execution_count": null,
   "metadata": {
    "colab": {
     "base_uri": "https://localhost:8080/"
    },
    "id": "A5-HYmqje2kU",
    "outputId": "4e657a48-f8fe-497a-9fe6-ac69fb533895"
   },
   "outputs": [],
   "source": [
    "! pip install transformers"
   ]
  },
  {
   "cell_type": "code",
   "execution_count": null,
   "metadata": {
    "colab": {
     "base_uri": "https://localhost:8080/"
    },
    "id": "v4hlmJpshFPn",
    "outputId": "148a0378-4114-4741-a4d7-ff2bda0b16e6"
   },
   "outputs": [],
   "source": [
    "! pip install sentencepiece"
   ]
  },
  {
   "cell_type": "code",
   "execution_count": null,
   "metadata": {
    "colab": {
     "base_uri": "https://localhost:8080/"
    },
    "id": "iNU1owsDlZn6",
    "outputId": "de0355eb-94c1-45c0-e34b-2b88194f7194"
   },
   "outputs": [],
   "source": [
    "! pip install datasets\n",
    "from datasets import Dataset"
   ]
  },
  {
   "cell_type": "code",
   "execution_count": null,
   "metadata": {
    "colab": {
     "base_uri": "https://localhost:8080/",
     "height": 81,
     "referenced_widgets": [
      "36743981ad654cb88d9a4d071f5d1649",
      "2731a2319d1d4c3e9bf28abc400ae1ff",
      "892a946261be470f9b8db54f450ff000",
      "7c2ef68ce11c4b5d9c7b0d85436291d8",
      "3e63514f1d8a48018aed98be3863df27",
      "6b9d5942dca84b638dc3a532674e85cf",
      "bda84a4dd0f448be80fde5a3a68b9c6d",
      "e9026edd1d50439dbdc546b1bddef454",
      "5374e520438345c783d470af05088d69",
      "923d59b7f6af42cd88f13e1c9bf0059d",
      "710a96bf78e44a218046b4c9a9ad14d8",
      "145b53a979ca489ab967afd52df233a0",
      "0b767fb7c9544622a3c8171d8e37adac",
      "d1eb05ecf1e045c0b1a096c8ac075bba",
      "b4c6c1e734704154a4733efbdffc4c59",
      "b55ad8d06ac443bcadd54c47417e9155",
      "66b459731a664faa89742f3574151f47",
      "ee82e609f0e24ced84c88c61947e55db",
      "34c3387bb4ce4ac39f91eca5497a2c0d",
      "390fc50e5b0641e193ddabe37fb5c119",
      "679210e676ef4672adc3ba7c45d59db1",
      "97aae074586a465fa41ef7858633565b"
     ]
    },
    "id": "L7ATDRZQnNny",
    "outputId": "a554af43-cae0-413e-8c60-8c1acd8319a1"
   },
   "outputs": [],
   "source": [
    "from transformers import PLBartForConditionalGeneration, PLBartTokenizer, PLBartConfig\n",
    "config =PLBartConfig.from_pretrained(\"uclanlp/plbart-base\",dropout=0.2,decoder_layerdrop=0.2)#, attention_dropout=0.2) \n",
    "tokenizer = PLBartTokenizer.from_pretrained(\"uclanlp/plbart-base\")\n",
    "model = PLBartForConditionalGeneration(config)\n"
   ]
  },
  {
   "cell_type": "markdown",
   "metadata": {
    "id": "8FG2w_WtgORj"
   },
   "source": [
    "### Input preparation"
   ]
  },
  {
   "cell_type": "code",
   "execution_count": null,
   "metadata": {
    "colab": {
     "base_uri": "https://localhost:8080/",
     "height": 523,
     "referenced_widgets": [
      "be29e6c453ce4d15901445a231799ae9",
      "69967407e9084f518017e8fe3606ad62",
      "86080ef3b3a7496fadded83813b7a154",
      "8ae37769be834fd19ad35754b2c97663",
      "b99fb9b640094d9483cc09e99f90d5b5",
      "1bef7cc7cd8146d9816458b22394220a",
      "3cd266b60d424794b24be13e27b148f1",
      "0e4124e74dd24daeb4fb4d69e0ef760e",
      "d10747a3ec064bb1a24e41c041db1222",
      "16ae87a376514dccb80b7928d5733014",
      "b82ae4c804ca47d989764de35625d915",
      "8bfa6e032c174e76928021c5e7f167fa",
      "b1bc51191b2e495f80051a91f2c3c153",
      "fb8dfe264af04e38856075519d4f6c82",
      "ee0fb465d1bb4911b87e13adf58bcd6a",
      "2c7562bb0d2c40568ad993cd6953a1b9",
      "c77e4401f3ca418bb3ed1e5927e48118",
      "912961b14b2a44d4a7988db797bd4235",
      "050eead97e344ac7b7b6d05db3fc9616",
      "d115c0d168fa4eed8bb451a9b8624f1f",
      "d9ad8e3338454ec8972fa16991e25a22",
      "dcb5c34a8b4645eead0a56acc6803660"
     ]
    },
    "id": "OrS77RzaFUW7",
    "outputId": "6264ecb4-e544-4d03-f31d-ec001c594754"
   },
   "outputs": [],
   "source": [
    "import torch\n",
    "\n",
    "def convert_to_features(example_batch):\n",
    "    input_encodings = tokenizer(example_batch['code2'], pad_to_max_length=True, max_length=320, truncation=True) #python--code2, docstring\n",
    "    target_encodings = tokenizer(example_batch['docstring2'], pad_to_max_length=True, max_length=128, truncation=True)\n",
    "    \n",
    "    labels = target_encodings['input_ids']\n",
    "    \n",
    "    encodings = {\n",
    "        'input_ids': input_encodings['input_ids'],\n",
    "        'attention_mask': input_encodings['attention_mask'],\n",
    "        'labels': labels,\n",
    "    } \n",
    "    return encodings\n",
    "\n",
    "\n",
    "#train_val_py = pd.concat([train_py,val_py])\n",
    "\n",
    "train_load = Dataset.from_pandas(train_java)\n",
    "#print(train_load['code2'])\n",
    "train_set = train_load.map(convert_to_features, batched=True, batch_size=len(train_load))#, batched=True, batch_size=len(train_loader)----PL_basic\n",
    "\n",
    "val_load = Dataset.from_pandas(val_java)\n",
    "val_set = val_load.map(convert_to_features, batched=True, batch_size=len(val_load))#, batched=True, batch_size=len(train_loader)----PL_basic\n",
    "\n",
    "columns = ['input_ids', 'labels','attention_mask'] \n",
    "train_set.set_format('torch', columns=columns)\n",
    "val_set.set_format('torch', columns=columns)\n",
    "\n",
    "\n",
    "dataloader = torch.utils.data.DataLoader(val_set, batch_size=32)\n",
    "next(iter(dataloader))"
   ]
  },
  {
   "cell_type": "code",
   "execution_count": null,
   "metadata": {
    "id": "VmydV-a0ixwJ"
   },
   "outputs": [],
   "source": [
    "torch.cuda.empty_cache() "
   ]
  },
  {
   "cell_type": "markdown",
   "metadata": {
    "id": "Kyt_bFoJHg3W"
   },
   "source": [
    "### Training"
   ]
  },
  {
   "cell_type": "code",
   "execution_count": null,
   "metadata": {
    "id": "QG7Qi5RnJtlC"
   },
   "outputs": [],
   "source": [
    "from transformers import Trainer, TrainingArguments\n",
    "\n",
    "training_args = TrainingArguments(\n",
    "    output_dir='./models/java',          \n",
    "    num_train_epochs=40,           \n",
    "    per_device_train_batch_size=8, \n",
    "    per_device_eval_batch_size=8,   \n",
    "    warmup_steps=500,               \n",
    "    weight_decay=0.01,             \n",
    "    logging_dir='./logs',          \n",
    ")\n",
    "\n",
    "trainer = Trainer(\n",
    "    model=model,                       \n",
    "    args=training_args,                  \n",
    "    train_dataset=train_set,        \n",
    "    eval_dataset=val_set   \n",
    ")\n"
   ]
  },
  {
   "cell_type": "code",
   "execution_count": null,
   "metadata": {
    "id": "0cty6cbHZTbv"
   },
   "outputs": [],
   "source": [
    "trainer.train()"
   ]
  },
  {
   "cell_type": "code",
   "execution_count": null,
   "metadata": {
    "id": "PbPZBdaqbybu"
   },
   "outputs": [],
   "source": [
    "model = torch.load(\"models/java/checkpoint-57500/pytorch_model.bin\")\n",
    "torch.save(model, './drive/MyDrive/ThesisDataset/Models/PLBart40_dropout02_java')"
   ]
  },
  {
   "cell_type": "code",
   "execution_count": null,
   "metadata": {
    "id": "1qhportLytv-"
   },
   "outputs": [],
   "source": [
    "model = torch.load(\"models/java/checkpoint-7500/pytorch_model.bin\")\n",
    "torch.save(model, './drive/MyDrive/ThesisDataset/Models/PLBartMed2_last3_java')"
   ]
  }
 ],
 "metadata": {
  "accelerator": "GPU",
  "colab": {
   "collapsed_sections": [
    "-3NkZkKIgE1x",
    "eVGANrZIlzQR"
   ],
   "name": "finalPLBart.ipynb",
   "provenance": []
  },
  "kernelspec": {
   "display_name": "Python 3 (ipykernel)",
   "language": "python",
   "name": "python3"
  },
  "language_info": {
   "codemirror_mode": {
    "name": "ipython",
    "version": 3
   },
   "file_extension": ".py",
   "mimetype": "text/x-python",
   "name": "python",
   "nbconvert_exporter": "python",
   "pygments_lexer": "ipython3",
   "version": "3.8.12"
  },
  "widgets": {
   "application/vnd.jupyter.widget-state+json": {
    "050eead97e344ac7b7b6d05db3fc9616": {
     "model_module": "@jupyter-widgets/base",
     "model_module_version": "1.2.0",
     "model_name": "LayoutModel",
     "state": {
      "_model_module": "@jupyter-widgets/base",
      "_model_module_version": "1.2.0",
      "_model_name": "LayoutModel",
      "_view_count": null,
      "_view_module": "@jupyter-widgets/base",
      "_view_module_version": "1.2.0",
      "_view_name": "LayoutView",
      "align_content": null,
      "align_items": null,
      "align_self": null,
      "border": null,
      "bottom": null,
      "display": null,
      "flex": null,
      "flex_flow": null,
      "grid_area": null,
      "grid_auto_columns": null,
      "grid_auto_flow": null,
      "grid_auto_rows": null,
      "grid_column": null,
      "grid_gap": null,
      "grid_row": null,
      "grid_template_areas": null,
      "grid_template_columns": null,
      "grid_template_rows": null,
      "height": null,
      "justify_content": null,
      "justify_items": null,
      "left": null,
      "margin": null,
      "max_height": null,
      "max_width": null,
      "min_height": null,
      "min_width": null,
      "object_fit": null,
      "object_position": null,
      "order": null,
      "overflow": null,
      "overflow_x": null,
      "overflow_y": null,
      "padding": null,
      "right": null,
      "top": null,
      "visibility": null,
      "width": null
     }
    },
    "0b767fb7c9544622a3c8171d8e37adac": {
     "model_module": "@jupyter-widgets/controls",
     "model_module_version": "1.5.0",
     "model_name": "HTMLModel",
     "state": {
      "_dom_classes": [],
      "_model_module": "@jupyter-widgets/controls",
      "_model_module_version": "1.5.0",
      "_model_name": "HTMLModel",
      "_view_count": null,
      "_view_module": "@jupyter-widgets/controls",
      "_view_module_version": "1.5.0",
      "_view_name": "HTMLView",
      "description": "",
      "description_tooltip": null,
      "layout": "IPY_MODEL_66b459731a664faa89742f3574151f47",
      "placeholder": "​",
      "style": "IPY_MODEL_ee82e609f0e24ced84c88c61947e55db",
      "value": "Downloading: 100%"
     }
    },
    "0e4124e74dd24daeb4fb4d69e0ef760e": {
     "model_module": "@jupyter-widgets/base",
     "model_module_version": "1.2.0",
     "model_name": "LayoutModel",
     "state": {
      "_model_module": "@jupyter-widgets/base",
      "_model_module_version": "1.2.0",
      "_model_name": "LayoutModel",
      "_view_count": null,
      "_view_module": "@jupyter-widgets/base",
      "_view_module_version": "1.2.0",
      "_view_name": "LayoutView",
      "align_content": null,
      "align_items": null,
      "align_self": null,
      "border": null,
      "bottom": null,
      "display": null,
      "flex": null,
      "flex_flow": null,
      "grid_area": null,
      "grid_auto_columns": null,
      "grid_auto_flow": null,
      "grid_auto_rows": null,
      "grid_column": null,
      "grid_gap": null,
      "grid_row": null,
      "grid_template_areas": null,
      "grid_template_columns": null,
      "grid_template_rows": null,
      "height": null,
      "justify_content": null,
      "justify_items": null,
      "left": null,
      "margin": null,
      "max_height": null,
      "max_width": null,
      "min_height": null,
      "min_width": null,
      "object_fit": null,
      "object_position": null,
      "order": null,
      "overflow": null,
      "overflow_x": null,
      "overflow_y": null,
      "padding": null,
      "right": null,
      "top": null,
      "visibility": null,
      "width": null
     }
    },
    "145b53a979ca489ab967afd52df233a0": {
     "model_module": "@jupyter-widgets/controls",
     "model_module_version": "1.5.0",
     "model_name": "HBoxModel",
     "state": {
      "_dom_classes": [],
      "_model_module": "@jupyter-widgets/controls",
      "_model_module_version": "1.5.0",
      "_model_name": "HBoxModel",
      "_view_count": null,
      "_view_module": "@jupyter-widgets/controls",
      "_view_module_version": "1.5.0",
      "_view_name": "HBoxView",
      "box_style": "",
      "children": [
       "IPY_MODEL_0b767fb7c9544622a3c8171d8e37adac",
       "IPY_MODEL_d1eb05ecf1e045c0b1a096c8ac075bba",
       "IPY_MODEL_b4c6c1e734704154a4733efbdffc4c59"
      ],
      "layout": "IPY_MODEL_b55ad8d06ac443bcadd54c47417e9155"
     }
    },
    "16ae87a376514dccb80b7928d5733014": {
     "model_module": "@jupyter-widgets/base",
     "model_module_version": "1.2.0",
     "model_name": "LayoutModel",
     "state": {
      "_model_module": "@jupyter-widgets/base",
      "_model_module_version": "1.2.0",
      "_model_name": "LayoutModel",
      "_view_count": null,
      "_view_module": "@jupyter-widgets/base",
      "_view_module_version": "1.2.0",
      "_view_name": "LayoutView",
      "align_content": null,
      "align_items": null,
      "align_self": null,
      "border": null,
      "bottom": null,
      "display": null,
      "flex": null,
      "flex_flow": null,
      "grid_area": null,
      "grid_auto_columns": null,
      "grid_auto_flow": null,
      "grid_auto_rows": null,
      "grid_column": null,
      "grid_gap": null,
      "grid_row": null,
      "grid_template_areas": null,
      "grid_template_columns": null,
      "grid_template_rows": null,
      "height": null,
      "justify_content": null,
      "justify_items": null,
      "left": null,
      "margin": null,
      "max_height": null,
      "max_width": null,
      "min_height": null,
      "min_width": null,
      "object_fit": null,
      "object_position": null,
      "order": null,
      "overflow": null,
      "overflow_x": null,
      "overflow_y": null,
      "padding": null,
      "right": null,
      "top": null,
      "visibility": null,
      "width": null
     }
    },
    "1bef7cc7cd8146d9816458b22394220a": {
     "model_module": "@jupyter-widgets/base",
     "model_module_version": "1.2.0",
     "model_name": "LayoutModel",
     "state": {
      "_model_module": "@jupyter-widgets/base",
      "_model_module_version": "1.2.0",
      "_model_name": "LayoutModel",
      "_view_count": null,
      "_view_module": "@jupyter-widgets/base",
      "_view_module_version": "1.2.0",
      "_view_name": "LayoutView",
      "align_content": null,
      "align_items": null,
      "align_self": null,
      "border": null,
      "bottom": null,
      "display": null,
      "flex": null,
      "flex_flow": null,
      "grid_area": null,
      "grid_auto_columns": null,
      "grid_auto_flow": null,
      "grid_auto_rows": null,
      "grid_column": null,
      "grid_gap": null,
      "grid_row": null,
      "grid_template_areas": null,
      "grid_template_columns": null,
      "grid_template_rows": null,
      "height": null,
      "justify_content": null,
      "justify_items": null,
      "left": null,
      "margin": null,
      "max_height": null,
      "max_width": null,
      "min_height": null,
      "min_width": null,
      "object_fit": null,
      "object_position": null,
      "order": null,
      "overflow": null,
      "overflow_x": null,
      "overflow_y": null,
      "padding": null,
      "right": null,
      "top": null,
      "visibility": null,
      "width": null
     }
    },
    "2731a2319d1d4c3e9bf28abc400ae1ff": {
     "model_module": "@jupyter-widgets/controls",
     "model_module_version": "1.5.0",
     "model_name": "HTMLModel",
     "state": {
      "_dom_classes": [],
      "_model_module": "@jupyter-widgets/controls",
      "_model_module_version": "1.5.0",
      "_model_name": "HTMLModel",
      "_view_count": null,
      "_view_module": "@jupyter-widgets/controls",
      "_view_module_version": "1.5.0",
      "_view_name": "HTMLView",
      "description": "",
      "description_tooltip": null,
      "layout": "IPY_MODEL_6b9d5942dca84b638dc3a532674e85cf",
      "placeholder": "​",
      "style": "IPY_MODEL_bda84a4dd0f448be80fde5a3a68b9c6d",
      "value": "Downloading: 100%"
     }
    },
    "2c7562bb0d2c40568ad993cd6953a1b9": {
     "model_module": "@jupyter-widgets/base",
     "model_module_version": "1.2.0",
     "model_name": "LayoutModel",
     "state": {
      "_model_module": "@jupyter-widgets/base",
      "_model_module_version": "1.2.0",
      "_model_name": "LayoutModel",
      "_view_count": null,
      "_view_module": "@jupyter-widgets/base",
      "_view_module_version": "1.2.0",
      "_view_name": "LayoutView",
      "align_content": null,
      "align_items": null,
      "align_self": null,
      "border": null,
      "bottom": null,
      "display": null,
      "flex": null,
      "flex_flow": null,
      "grid_area": null,
      "grid_auto_columns": null,
      "grid_auto_flow": null,
      "grid_auto_rows": null,
      "grid_column": null,
      "grid_gap": null,
      "grid_row": null,
      "grid_template_areas": null,
      "grid_template_columns": null,
      "grid_template_rows": null,
      "height": null,
      "justify_content": null,
      "justify_items": null,
      "left": null,
      "margin": null,
      "max_height": null,
      "max_width": null,
      "min_height": null,
      "min_width": null,
      "object_fit": null,
      "object_position": null,
      "order": null,
      "overflow": null,
      "overflow_x": null,
      "overflow_y": null,
      "padding": null,
      "right": null,
      "top": null,
      "visibility": null,
      "width": null
     }
    },
    "34c3387bb4ce4ac39f91eca5497a2c0d": {
     "model_module": "@jupyter-widgets/base",
     "model_module_version": "1.2.0",
     "model_name": "LayoutModel",
     "state": {
      "_model_module": "@jupyter-widgets/base",
      "_model_module_version": "1.2.0",
      "_model_name": "LayoutModel",
      "_view_count": null,
      "_view_module": "@jupyter-widgets/base",
      "_view_module_version": "1.2.0",
      "_view_name": "LayoutView",
      "align_content": null,
      "align_items": null,
      "align_self": null,
      "border": null,
      "bottom": null,
      "display": null,
      "flex": null,
      "flex_flow": null,
      "grid_area": null,
      "grid_auto_columns": null,
      "grid_auto_flow": null,
      "grid_auto_rows": null,
      "grid_column": null,
      "grid_gap": null,
      "grid_row": null,
      "grid_template_areas": null,
      "grid_template_columns": null,
      "grid_template_rows": null,
      "height": null,
      "justify_content": null,
      "justify_items": null,
      "left": null,
      "margin": null,
      "max_height": null,
      "max_width": null,
      "min_height": null,
      "min_width": null,
      "object_fit": null,
      "object_position": null,
      "order": null,
      "overflow": null,
      "overflow_x": null,
      "overflow_y": null,
      "padding": null,
      "right": null,
      "top": null,
      "visibility": null,
      "width": null
     }
    },
    "36743981ad654cb88d9a4d071f5d1649": {
     "model_module": "@jupyter-widgets/controls",
     "model_module_version": "1.5.0",
     "model_name": "HBoxModel",
     "state": {
      "_dom_classes": [],
      "_model_module": "@jupyter-widgets/controls",
      "_model_module_version": "1.5.0",
      "_model_name": "HBoxModel",
      "_view_count": null,
      "_view_module": "@jupyter-widgets/controls",
      "_view_module_version": "1.5.0",
      "_view_name": "HBoxView",
      "box_style": "",
      "children": [
       "IPY_MODEL_2731a2319d1d4c3e9bf28abc400ae1ff",
       "IPY_MODEL_892a946261be470f9b8db54f450ff000",
       "IPY_MODEL_7c2ef68ce11c4b5d9c7b0d85436291d8"
      ],
      "layout": "IPY_MODEL_3e63514f1d8a48018aed98be3863df27"
     }
    },
    "390fc50e5b0641e193ddabe37fb5c119": {
     "model_module": "@jupyter-widgets/controls",
     "model_module_version": "1.5.0",
     "model_name": "ProgressStyleModel",
     "state": {
      "_model_module": "@jupyter-widgets/controls",
      "_model_module_version": "1.5.0",
      "_model_name": "ProgressStyleModel",
      "_view_count": null,
      "_view_module": "@jupyter-widgets/base",
      "_view_module_version": "1.2.0",
      "_view_name": "StyleView",
      "bar_color": null,
      "description_width": ""
     }
    },
    "3cd266b60d424794b24be13e27b148f1": {
     "model_module": "@jupyter-widgets/controls",
     "model_module_version": "1.5.0",
     "model_name": "DescriptionStyleModel",
     "state": {
      "_model_module": "@jupyter-widgets/controls",
      "_model_module_version": "1.5.0",
      "_model_name": "DescriptionStyleModel",
      "_view_count": null,
      "_view_module": "@jupyter-widgets/base",
      "_view_module_version": "1.2.0",
      "_view_name": "StyleView",
      "description_width": ""
     }
    },
    "3e63514f1d8a48018aed98be3863df27": {
     "model_module": "@jupyter-widgets/base",
     "model_module_version": "1.2.0",
     "model_name": "LayoutModel",
     "state": {
      "_model_module": "@jupyter-widgets/base",
      "_model_module_version": "1.2.0",
      "_model_name": "LayoutModel",
      "_view_count": null,
      "_view_module": "@jupyter-widgets/base",
      "_view_module_version": "1.2.0",
      "_view_name": "LayoutView",
      "align_content": null,
      "align_items": null,
      "align_self": null,
      "border": null,
      "bottom": null,
      "display": null,
      "flex": null,
      "flex_flow": null,
      "grid_area": null,
      "grid_auto_columns": null,
      "grid_auto_flow": null,
      "grid_auto_rows": null,
      "grid_column": null,
      "grid_gap": null,
      "grid_row": null,
      "grid_template_areas": null,
      "grid_template_columns": null,
      "grid_template_rows": null,
      "height": null,
      "justify_content": null,
      "justify_items": null,
      "left": null,
      "margin": null,
      "max_height": null,
      "max_width": null,
      "min_height": null,
      "min_width": null,
      "object_fit": null,
      "object_position": null,
      "order": null,
      "overflow": null,
      "overflow_x": null,
      "overflow_y": null,
      "padding": null,
      "right": null,
      "top": null,
      "visibility": null,
      "width": null
     }
    },
    "5374e520438345c783d470af05088d69": {
     "model_module": "@jupyter-widgets/controls",
     "model_module_version": "1.5.0",
     "model_name": "ProgressStyleModel",
     "state": {
      "_model_module": "@jupyter-widgets/controls",
      "_model_module_version": "1.5.0",
      "_model_name": "ProgressStyleModel",
      "_view_count": null,
      "_view_module": "@jupyter-widgets/base",
      "_view_module_version": "1.2.0",
      "_view_name": "StyleView",
      "bar_color": null,
      "description_width": ""
     }
    },
    "66b459731a664faa89742f3574151f47": {
     "model_module": "@jupyter-widgets/base",
     "model_module_version": "1.2.0",
     "model_name": "LayoutModel",
     "state": {
      "_model_module": "@jupyter-widgets/base",
      "_model_module_version": "1.2.0",
      "_model_name": "LayoutModel",
      "_view_count": null,
      "_view_module": "@jupyter-widgets/base",
      "_view_module_version": "1.2.0",
      "_view_name": "LayoutView",
      "align_content": null,
      "align_items": null,
      "align_self": null,
      "border": null,
      "bottom": null,
      "display": null,
      "flex": null,
      "flex_flow": null,
      "grid_area": null,
      "grid_auto_columns": null,
      "grid_auto_flow": null,
      "grid_auto_rows": null,
      "grid_column": null,
      "grid_gap": null,
      "grid_row": null,
      "grid_template_areas": null,
      "grid_template_columns": null,
      "grid_template_rows": null,
      "height": null,
      "justify_content": null,
      "justify_items": null,
      "left": null,
      "margin": null,
      "max_height": null,
      "max_width": null,
      "min_height": null,
      "min_width": null,
      "object_fit": null,
      "object_position": null,
      "order": null,
      "overflow": null,
      "overflow_x": null,
      "overflow_y": null,
      "padding": null,
      "right": null,
      "top": null,
      "visibility": null,
      "width": null
     }
    },
    "679210e676ef4672adc3ba7c45d59db1": {
     "model_module": "@jupyter-widgets/base",
     "model_module_version": "1.2.0",
     "model_name": "LayoutModel",
     "state": {
      "_model_module": "@jupyter-widgets/base",
      "_model_module_version": "1.2.0",
      "_model_name": "LayoutModel",
      "_view_count": null,
      "_view_module": "@jupyter-widgets/base",
      "_view_module_version": "1.2.0",
      "_view_name": "LayoutView",
      "align_content": null,
      "align_items": null,
      "align_self": null,
      "border": null,
      "bottom": null,
      "display": null,
      "flex": null,
      "flex_flow": null,
      "grid_area": null,
      "grid_auto_columns": null,
      "grid_auto_flow": null,
      "grid_auto_rows": null,
      "grid_column": null,
      "grid_gap": null,
      "grid_row": null,
      "grid_template_areas": null,
      "grid_template_columns": null,
      "grid_template_rows": null,
      "height": null,
      "justify_content": null,
      "justify_items": null,
      "left": null,
      "margin": null,
      "max_height": null,
      "max_width": null,
      "min_height": null,
      "min_width": null,
      "object_fit": null,
      "object_position": null,
      "order": null,
      "overflow": null,
      "overflow_x": null,
      "overflow_y": null,
      "padding": null,
      "right": null,
      "top": null,
      "visibility": null,
      "width": null
     }
    },
    "69967407e9084f518017e8fe3606ad62": {
     "model_module": "@jupyter-widgets/controls",
     "model_module_version": "1.5.0",
     "model_name": "HTMLModel",
     "state": {
      "_dom_classes": [],
      "_model_module": "@jupyter-widgets/controls",
      "_model_module_version": "1.5.0",
      "_model_name": "HTMLModel",
      "_view_count": null,
      "_view_module": "@jupyter-widgets/controls",
      "_view_module_version": "1.5.0",
      "_view_name": "HTMLView",
      "description": "",
      "description_tooltip": null,
      "layout": "IPY_MODEL_1bef7cc7cd8146d9816458b22394220a",
      "placeholder": "​",
      "style": "IPY_MODEL_3cd266b60d424794b24be13e27b148f1",
      "value": "100%"
     }
    },
    "6b9d5942dca84b638dc3a532674e85cf": {
     "model_module": "@jupyter-widgets/base",
     "model_module_version": "1.2.0",
     "model_name": "LayoutModel",
     "state": {
      "_model_module": "@jupyter-widgets/base",
      "_model_module_version": "1.2.0",
      "_model_name": "LayoutModel",
      "_view_count": null,
      "_view_module": "@jupyter-widgets/base",
      "_view_module_version": "1.2.0",
      "_view_name": "LayoutView",
      "align_content": null,
      "align_items": null,
      "align_self": null,
      "border": null,
      "bottom": null,
      "display": null,
      "flex": null,
      "flex_flow": null,
      "grid_area": null,
      "grid_auto_columns": null,
      "grid_auto_flow": null,
      "grid_auto_rows": null,
      "grid_column": null,
      "grid_gap": null,
      "grid_row": null,
      "grid_template_areas": null,
      "grid_template_columns": null,
      "grid_template_rows": null,
      "height": null,
      "justify_content": null,
      "justify_items": null,
      "left": null,
      "margin": null,
      "max_height": null,
      "max_width": null,
      "min_height": null,
      "min_width": null,
      "object_fit": null,
      "object_position": null,
      "order": null,
      "overflow": null,
      "overflow_x": null,
      "overflow_y": null,
      "padding": null,
      "right": null,
      "top": null,
      "visibility": null,
      "width": null
     }
    },
    "710a96bf78e44a218046b4c9a9ad14d8": {
     "model_module": "@jupyter-widgets/controls",
     "model_module_version": "1.5.0",
     "model_name": "DescriptionStyleModel",
     "state": {
      "_model_module": "@jupyter-widgets/controls",
      "_model_module_version": "1.5.0",
      "_model_name": "DescriptionStyleModel",
      "_view_count": null,
      "_view_module": "@jupyter-widgets/base",
      "_view_module_version": "1.2.0",
      "_view_name": "StyleView",
      "description_width": ""
     }
    },
    "7c2ef68ce11c4b5d9c7b0d85436291d8": {
     "model_module": "@jupyter-widgets/controls",
     "model_module_version": "1.5.0",
     "model_name": "HTMLModel",
     "state": {
      "_dom_classes": [],
      "_model_module": "@jupyter-widgets/controls",
      "_model_module_version": "1.5.0",
      "_model_name": "HTMLModel",
      "_view_count": null,
      "_view_module": "@jupyter-widgets/controls",
      "_view_module_version": "1.5.0",
      "_view_name": "HTMLView",
      "description": "",
      "description_tooltip": null,
      "layout": "IPY_MODEL_923d59b7f6af42cd88f13e1c9bf0059d",
      "placeholder": "​",
      "style": "IPY_MODEL_710a96bf78e44a218046b4c9a9ad14d8",
      "value": " 783/783 [00:00&lt;00:00, 19.1kB/s]"
     }
    },
    "86080ef3b3a7496fadded83813b7a154": {
     "model_module": "@jupyter-widgets/controls",
     "model_module_version": "1.5.0",
     "model_name": "FloatProgressModel",
     "state": {
      "_dom_classes": [],
      "_model_module": "@jupyter-widgets/controls",
      "_model_module_version": "1.5.0",
      "_model_name": "FloatProgressModel",
      "_view_count": null,
      "_view_module": "@jupyter-widgets/controls",
      "_view_module_version": "1.5.0",
      "_view_name": "ProgressView",
      "bar_style": "success",
      "description": "",
      "description_tooltip": null,
      "layout": "IPY_MODEL_0e4124e74dd24daeb4fb4d69e0ef760e",
      "max": 1,
      "min": 0,
      "orientation": "horizontal",
      "style": "IPY_MODEL_d10747a3ec064bb1a24e41c041db1222",
      "value": 1
     }
    },
    "892a946261be470f9b8db54f450ff000": {
     "model_module": "@jupyter-widgets/controls",
     "model_module_version": "1.5.0",
     "model_name": "FloatProgressModel",
     "state": {
      "_dom_classes": [],
      "_model_module": "@jupyter-widgets/controls",
      "_model_module_version": "1.5.0",
      "_model_name": "FloatProgressModel",
      "_view_count": null,
      "_view_module": "@jupyter-widgets/controls",
      "_view_module_version": "1.5.0",
      "_view_name": "ProgressView",
      "bar_style": "success",
      "description": "",
      "description_tooltip": null,
      "layout": "IPY_MODEL_e9026edd1d50439dbdc546b1bddef454",
      "max": 783,
      "min": 0,
      "orientation": "horizontal",
      "style": "IPY_MODEL_5374e520438345c783d470af05088d69",
      "value": 783
     }
    },
    "8ae37769be834fd19ad35754b2c97663": {
     "model_module": "@jupyter-widgets/controls",
     "model_module_version": "1.5.0",
     "model_name": "HTMLModel",
     "state": {
      "_dom_classes": [],
      "_model_module": "@jupyter-widgets/controls",
      "_model_module_version": "1.5.0",
      "_model_name": "HTMLModel",
      "_view_count": null,
      "_view_module": "@jupyter-widgets/controls",
      "_view_module_version": "1.5.0",
      "_view_name": "HTMLView",
      "description": "",
      "description_tooltip": null,
      "layout": "IPY_MODEL_16ae87a376514dccb80b7928d5733014",
      "placeholder": "​",
      "style": "IPY_MODEL_b82ae4c804ca47d989764de35625d915",
      "value": " 1/1 [00:23&lt;00:00, 23.15s/ba]"
     }
    },
    "8bfa6e032c174e76928021c5e7f167fa": {
     "model_module": "@jupyter-widgets/controls",
     "model_module_version": "1.5.0",
     "model_name": "HBoxModel",
     "state": {
      "_dom_classes": [],
      "_model_module": "@jupyter-widgets/controls",
      "_model_module_version": "1.5.0",
      "_model_name": "HBoxModel",
      "_view_count": null,
      "_view_module": "@jupyter-widgets/controls",
      "_view_module_version": "1.5.0",
      "_view_name": "HBoxView",
      "box_style": "",
      "children": [
       "IPY_MODEL_b1bc51191b2e495f80051a91f2c3c153",
       "IPY_MODEL_fb8dfe264af04e38856075519d4f6c82",
       "IPY_MODEL_ee0fb465d1bb4911b87e13adf58bcd6a"
      ],
      "layout": "IPY_MODEL_2c7562bb0d2c40568ad993cd6953a1b9"
     }
    },
    "912961b14b2a44d4a7988db797bd4235": {
     "model_module": "@jupyter-widgets/controls",
     "model_module_version": "1.5.0",
     "model_name": "DescriptionStyleModel",
     "state": {
      "_model_module": "@jupyter-widgets/controls",
      "_model_module_version": "1.5.0",
      "_model_name": "DescriptionStyleModel",
      "_view_count": null,
      "_view_module": "@jupyter-widgets/base",
      "_view_module_version": "1.2.0",
      "_view_name": "StyleView",
      "description_width": ""
     }
    },
    "923d59b7f6af42cd88f13e1c9bf0059d": {
     "model_module": "@jupyter-widgets/base",
     "model_module_version": "1.2.0",
     "model_name": "LayoutModel",
     "state": {
      "_model_module": "@jupyter-widgets/base",
      "_model_module_version": "1.2.0",
      "_model_name": "LayoutModel",
      "_view_count": null,
      "_view_module": "@jupyter-widgets/base",
      "_view_module_version": "1.2.0",
      "_view_name": "LayoutView",
      "align_content": null,
      "align_items": null,
      "align_self": null,
      "border": null,
      "bottom": null,
      "display": null,
      "flex": null,
      "flex_flow": null,
      "grid_area": null,
      "grid_auto_columns": null,
      "grid_auto_flow": null,
      "grid_auto_rows": null,
      "grid_column": null,
      "grid_gap": null,
      "grid_row": null,
      "grid_template_areas": null,
      "grid_template_columns": null,
      "grid_template_rows": null,
      "height": null,
      "justify_content": null,
      "justify_items": null,
      "left": null,
      "margin": null,
      "max_height": null,
      "max_width": null,
      "min_height": null,
      "min_width": null,
      "object_fit": null,
      "object_position": null,
      "order": null,
      "overflow": null,
      "overflow_x": null,
      "overflow_y": null,
      "padding": null,
      "right": null,
      "top": null,
      "visibility": null,
      "width": null
     }
    },
    "97aae074586a465fa41ef7858633565b": {
     "model_module": "@jupyter-widgets/controls",
     "model_module_version": "1.5.0",
     "model_name": "DescriptionStyleModel",
     "state": {
      "_model_module": "@jupyter-widgets/controls",
      "_model_module_version": "1.5.0",
      "_model_name": "DescriptionStyleModel",
      "_view_count": null,
      "_view_module": "@jupyter-widgets/base",
      "_view_module_version": "1.2.0",
      "_view_name": "StyleView",
      "description_width": ""
     }
    },
    "b1bc51191b2e495f80051a91f2c3c153": {
     "model_module": "@jupyter-widgets/controls",
     "model_module_version": "1.5.0",
     "model_name": "HTMLModel",
     "state": {
      "_dom_classes": [],
      "_model_module": "@jupyter-widgets/controls",
      "_model_module_version": "1.5.0",
      "_model_name": "HTMLModel",
      "_view_count": null,
      "_view_module": "@jupyter-widgets/controls",
      "_view_module_version": "1.5.0",
      "_view_name": "HTMLView",
      "description": "",
      "description_tooltip": null,
      "layout": "IPY_MODEL_c77e4401f3ca418bb3ed1e5927e48118",
      "placeholder": "​",
      "style": "IPY_MODEL_912961b14b2a44d4a7988db797bd4235",
      "value": "100%"
     }
    },
    "b4c6c1e734704154a4733efbdffc4c59": {
     "model_module": "@jupyter-widgets/controls",
     "model_module_version": "1.5.0",
     "model_name": "HTMLModel",
     "state": {
      "_dom_classes": [],
      "_model_module": "@jupyter-widgets/controls",
      "_model_module_version": "1.5.0",
      "_model_name": "HTMLModel",
      "_view_count": null,
      "_view_module": "@jupyter-widgets/controls",
      "_view_module_version": "1.5.0",
      "_view_name": "HTMLView",
      "description": "",
      "description_tooltip": null,
      "layout": "IPY_MODEL_679210e676ef4672adc3ba7c45d59db1",
      "placeholder": "​",
      "style": "IPY_MODEL_97aae074586a465fa41ef7858633565b",
      "value": " 963k/963k [00:00&lt;00:00, 2.35MB/s]"
     }
    },
    "b55ad8d06ac443bcadd54c47417e9155": {
     "model_module": "@jupyter-widgets/base",
     "model_module_version": "1.2.0",
     "model_name": "LayoutModel",
     "state": {
      "_model_module": "@jupyter-widgets/base",
      "_model_module_version": "1.2.0",
      "_model_name": "LayoutModel",
      "_view_count": null,
      "_view_module": "@jupyter-widgets/base",
      "_view_module_version": "1.2.0",
      "_view_name": "LayoutView",
      "align_content": null,
      "align_items": null,
      "align_self": null,
      "border": null,
      "bottom": null,
      "display": null,
      "flex": null,
      "flex_flow": null,
      "grid_area": null,
      "grid_auto_columns": null,
      "grid_auto_flow": null,
      "grid_auto_rows": null,
      "grid_column": null,
      "grid_gap": null,
      "grid_row": null,
      "grid_template_areas": null,
      "grid_template_columns": null,
      "grid_template_rows": null,
      "height": null,
      "justify_content": null,
      "justify_items": null,
      "left": null,
      "margin": null,
      "max_height": null,
      "max_width": null,
      "min_height": null,
      "min_width": null,
      "object_fit": null,
      "object_position": null,
      "order": null,
      "overflow": null,
      "overflow_x": null,
      "overflow_y": null,
      "padding": null,
      "right": null,
      "top": null,
      "visibility": null,
      "width": null
     }
    },
    "b82ae4c804ca47d989764de35625d915": {
     "model_module": "@jupyter-widgets/controls",
     "model_module_version": "1.5.0",
     "model_name": "DescriptionStyleModel",
     "state": {
      "_model_module": "@jupyter-widgets/controls",
      "_model_module_version": "1.5.0",
      "_model_name": "DescriptionStyleModel",
      "_view_count": null,
      "_view_module": "@jupyter-widgets/base",
      "_view_module_version": "1.2.0",
      "_view_name": "StyleView",
      "description_width": ""
     }
    },
    "b99fb9b640094d9483cc09e99f90d5b5": {
     "model_module": "@jupyter-widgets/base",
     "model_module_version": "1.2.0",
     "model_name": "LayoutModel",
     "state": {
      "_model_module": "@jupyter-widgets/base",
      "_model_module_version": "1.2.0",
      "_model_name": "LayoutModel",
      "_view_count": null,
      "_view_module": "@jupyter-widgets/base",
      "_view_module_version": "1.2.0",
      "_view_name": "LayoutView",
      "align_content": null,
      "align_items": null,
      "align_self": null,
      "border": null,
      "bottom": null,
      "display": null,
      "flex": null,
      "flex_flow": null,
      "grid_area": null,
      "grid_auto_columns": null,
      "grid_auto_flow": null,
      "grid_auto_rows": null,
      "grid_column": null,
      "grid_gap": null,
      "grid_row": null,
      "grid_template_areas": null,
      "grid_template_columns": null,
      "grid_template_rows": null,
      "height": null,
      "justify_content": null,
      "justify_items": null,
      "left": null,
      "margin": null,
      "max_height": null,
      "max_width": null,
      "min_height": null,
      "min_width": null,
      "object_fit": null,
      "object_position": null,
      "order": null,
      "overflow": null,
      "overflow_x": null,
      "overflow_y": null,
      "padding": null,
      "right": null,
      "top": null,
      "visibility": null,
      "width": null
     }
    },
    "bda84a4dd0f448be80fde5a3a68b9c6d": {
     "model_module": "@jupyter-widgets/controls",
     "model_module_version": "1.5.0",
     "model_name": "DescriptionStyleModel",
     "state": {
      "_model_module": "@jupyter-widgets/controls",
      "_model_module_version": "1.5.0",
      "_model_name": "DescriptionStyleModel",
      "_view_count": null,
      "_view_module": "@jupyter-widgets/base",
      "_view_module_version": "1.2.0",
      "_view_name": "StyleView",
      "description_width": ""
     }
    },
    "be29e6c453ce4d15901445a231799ae9": {
     "model_module": "@jupyter-widgets/controls",
     "model_module_version": "1.5.0",
     "model_name": "HBoxModel",
     "state": {
      "_dom_classes": [],
      "_model_module": "@jupyter-widgets/controls",
      "_model_module_version": "1.5.0",
      "_model_name": "HBoxModel",
      "_view_count": null,
      "_view_module": "@jupyter-widgets/controls",
      "_view_module_version": "1.5.0",
      "_view_name": "HBoxView",
      "box_style": "",
      "children": [
       "IPY_MODEL_69967407e9084f518017e8fe3606ad62",
       "IPY_MODEL_86080ef3b3a7496fadded83813b7a154",
       "IPY_MODEL_8ae37769be834fd19ad35754b2c97663"
      ],
      "layout": "IPY_MODEL_b99fb9b640094d9483cc09e99f90d5b5"
     }
    },
    "c77e4401f3ca418bb3ed1e5927e48118": {
     "model_module": "@jupyter-widgets/base",
     "model_module_version": "1.2.0",
     "model_name": "LayoutModel",
     "state": {
      "_model_module": "@jupyter-widgets/base",
      "_model_module_version": "1.2.0",
      "_model_name": "LayoutModel",
      "_view_count": null,
      "_view_module": "@jupyter-widgets/base",
      "_view_module_version": "1.2.0",
      "_view_name": "LayoutView",
      "align_content": null,
      "align_items": null,
      "align_self": null,
      "border": null,
      "bottom": null,
      "display": null,
      "flex": null,
      "flex_flow": null,
      "grid_area": null,
      "grid_auto_columns": null,
      "grid_auto_flow": null,
      "grid_auto_rows": null,
      "grid_column": null,
      "grid_gap": null,
      "grid_row": null,
      "grid_template_areas": null,
      "grid_template_columns": null,
      "grid_template_rows": null,
      "height": null,
      "justify_content": null,
      "justify_items": null,
      "left": null,
      "margin": null,
      "max_height": null,
      "max_width": null,
      "min_height": null,
      "min_width": null,
      "object_fit": null,
      "object_position": null,
      "order": null,
      "overflow": null,
      "overflow_x": null,
      "overflow_y": null,
      "padding": null,
      "right": null,
      "top": null,
      "visibility": null,
      "width": null
     }
    },
    "d10747a3ec064bb1a24e41c041db1222": {
     "model_module": "@jupyter-widgets/controls",
     "model_module_version": "1.5.0",
     "model_name": "ProgressStyleModel",
     "state": {
      "_model_module": "@jupyter-widgets/controls",
      "_model_module_version": "1.5.0",
      "_model_name": "ProgressStyleModel",
      "_view_count": null,
      "_view_module": "@jupyter-widgets/base",
      "_view_module_version": "1.2.0",
      "_view_name": "StyleView",
      "bar_color": null,
      "description_width": ""
     }
    },
    "d115c0d168fa4eed8bb451a9b8624f1f": {
     "model_module": "@jupyter-widgets/controls",
     "model_module_version": "1.5.0",
     "model_name": "ProgressStyleModel",
     "state": {
      "_model_module": "@jupyter-widgets/controls",
      "_model_module_version": "1.5.0",
      "_model_name": "ProgressStyleModel",
      "_view_count": null,
      "_view_module": "@jupyter-widgets/base",
      "_view_module_version": "1.2.0",
      "_view_name": "StyleView",
      "bar_color": null,
      "description_width": ""
     }
    },
    "d1eb05ecf1e045c0b1a096c8ac075bba": {
     "model_module": "@jupyter-widgets/controls",
     "model_module_version": "1.5.0",
     "model_name": "FloatProgressModel",
     "state": {
      "_dom_classes": [],
      "_model_module": "@jupyter-widgets/controls",
      "_model_module_version": "1.5.0",
      "_model_name": "FloatProgressModel",
      "_view_count": null,
      "_view_module": "@jupyter-widgets/controls",
      "_view_module_version": "1.5.0",
      "_view_name": "ProgressView",
      "bar_style": "success",
      "description": "",
      "description_tooltip": null,
      "layout": "IPY_MODEL_34c3387bb4ce4ac39f91eca5497a2c0d",
      "max": 985833,
      "min": 0,
      "orientation": "horizontal",
      "style": "IPY_MODEL_390fc50e5b0641e193ddabe37fb5c119",
      "value": 985833
     }
    },
    "d9ad8e3338454ec8972fa16991e25a22": {
     "model_module": "@jupyter-widgets/base",
     "model_module_version": "1.2.0",
     "model_name": "LayoutModel",
     "state": {
      "_model_module": "@jupyter-widgets/base",
      "_model_module_version": "1.2.0",
      "_model_name": "LayoutModel",
      "_view_count": null,
      "_view_module": "@jupyter-widgets/base",
      "_view_module_version": "1.2.0",
      "_view_name": "LayoutView",
      "align_content": null,
      "align_items": null,
      "align_self": null,
      "border": null,
      "bottom": null,
      "display": null,
      "flex": null,
      "flex_flow": null,
      "grid_area": null,
      "grid_auto_columns": null,
      "grid_auto_flow": null,
      "grid_auto_rows": null,
      "grid_column": null,
      "grid_gap": null,
      "grid_row": null,
      "grid_template_areas": null,
      "grid_template_columns": null,
      "grid_template_rows": null,
      "height": null,
      "justify_content": null,
      "justify_items": null,
      "left": null,
      "margin": null,
      "max_height": null,
      "max_width": null,
      "min_height": null,
      "min_width": null,
      "object_fit": null,
      "object_position": null,
      "order": null,
      "overflow": null,
      "overflow_x": null,
      "overflow_y": null,
      "padding": null,
      "right": null,
      "top": null,
      "visibility": null,
      "width": null
     }
    },
    "dcb5c34a8b4645eead0a56acc6803660": {
     "model_module": "@jupyter-widgets/controls",
     "model_module_version": "1.5.0",
     "model_name": "DescriptionStyleModel",
     "state": {
      "_model_module": "@jupyter-widgets/controls",
      "_model_module_version": "1.5.0",
      "_model_name": "DescriptionStyleModel",
      "_view_count": null,
      "_view_module": "@jupyter-widgets/base",
      "_view_module_version": "1.2.0",
      "_view_name": "StyleView",
      "description_width": ""
     }
    },
    "e9026edd1d50439dbdc546b1bddef454": {
     "model_module": "@jupyter-widgets/base",
     "model_module_version": "1.2.0",
     "model_name": "LayoutModel",
     "state": {
      "_model_module": "@jupyter-widgets/base",
      "_model_module_version": "1.2.0",
      "_model_name": "LayoutModel",
      "_view_count": null,
      "_view_module": "@jupyter-widgets/base",
      "_view_module_version": "1.2.0",
      "_view_name": "LayoutView",
      "align_content": null,
      "align_items": null,
      "align_self": null,
      "border": null,
      "bottom": null,
      "display": null,
      "flex": null,
      "flex_flow": null,
      "grid_area": null,
      "grid_auto_columns": null,
      "grid_auto_flow": null,
      "grid_auto_rows": null,
      "grid_column": null,
      "grid_gap": null,
      "grid_row": null,
      "grid_template_areas": null,
      "grid_template_columns": null,
      "grid_template_rows": null,
      "height": null,
      "justify_content": null,
      "justify_items": null,
      "left": null,
      "margin": null,
      "max_height": null,
      "max_width": null,
      "min_height": null,
      "min_width": null,
      "object_fit": null,
      "object_position": null,
      "order": null,
      "overflow": null,
      "overflow_x": null,
      "overflow_y": null,
      "padding": null,
      "right": null,
      "top": null,
      "visibility": null,
      "width": null
     }
    },
    "ee0fb465d1bb4911b87e13adf58bcd6a": {
     "model_module": "@jupyter-widgets/controls",
     "model_module_version": "1.5.0",
     "model_name": "HTMLModel",
     "state": {
      "_dom_classes": [],
      "_model_module": "@jupyter-widgets/controls",
      "_model_module_version": "1.5.0",
      "_model_name": "HTMLModel",
      "_view_count": null,
      "_view_module": "@jupyter-widgets/controls",
      "_view_module_version": "1.5.0",
      "_view_name": "HTMLView",
      "description": "",
      "description_tooltip": null,
      "layout": "IPY_MODEL_d9ad8e3338454ec8972fa16991e25a22",
      "placeholder": "​",
      "style": "IPY_MODEL_dcb5c34a8b4645eead0a56acc6803660",
      "value": " 1/1 [00:00&lt;00:00,  2.42ba/s]"
     }
    },
    "ee82e609f0e24ced84c88c61947e55db": {
     "model_module": "@jupyter-widgets/controls",
     "model_module_version": "1.5.0",
     "model_name": "DescriptionStyleModel",
     "state": {
      "_model_module": "@jupyter-widgets/controls",
      "_model_module_version": "1.5.0",
      "_model_name": "DescriptionStyleModel",
      "_view_count": null,
      "_view_module": "@jupyter-widgets/base",
      "_view_module_version": "1.2.0",
      "_view_name": "StyleView",
      "description_width": ""
     }
    },
    "fb8dfe264af04e38856075519d4f6c82": {
     "model_module": "@jupyter-widgets/controls",
     "model_module_version": "1.5.0",
     "model_name": "FloatProgressModel",
     "state": {
      "_dom_classes": [],
      "_model_module": "@jupyter-widgets/controls",
      "_model_module_version": "1.5.0",
      "_model_name": "FloatProgressModel",
      "_view_count": null,
      "_view_module": "@jupyter-widgets/controls",
      "_view_module_version": "1.5.0",
      "_view_name": "ProgressView",
      "bar_style": "success",
      "description": "",
      "description_tooltip": null,
      "layout": "IPY_MODEL_050eead97e344ac7b7b6d05db3fc9616",
      "max": 1,
      "min": 0,
      "orientation": "horizontal",
      "style": "IPY_MODEL_d115c0d168fa4eed8bb451a9b8624f1f",
      "value": 1
     }
    }
   }
  }
 },
 "nbformat": 4,
 "nbformat_minor": 1
}
